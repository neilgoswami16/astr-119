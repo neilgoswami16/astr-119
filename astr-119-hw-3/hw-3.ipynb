{
 "cells": [
  {
   "cell_type": "code",
   "execution_count": null,
   "id": "384f1af1",
   "metadata": {},
   "outputs": [],
   "source": [
    "import numpy as np\n",
    "import matplotlib.pyplot as plt"
   ]
  },
  {
   "cell_type": "code",
   "execution_count": null,
   "id": "911bf08a",
   "metadata": {},
   "outputs": [],
   "source": [
    "x = np.arange(0, 2*np.pi, (np.pi)/500) #creating array with 1000 values! :D"
   ]
  },
  {
   "cell_type": "code",
   "execution_count": null,
   "id": "8b259f00",
   "metadata": {},
   "outputs": [],
   "source": [
    "y = 5.5*np.cos(2*x) + 5.5\n",
    "plt.plot(x,y) #plotting the first function! :D\n",
    "y = 0.02*np.exp(x)\n",
    "plt.plot(x,y) #plotting the second function! :D\n",
    "y = 0.25*(x**2)+ 0.1*np.sin(10*x)\n",
    "plt.plot(x,y) #plotting the third function! :D\n",
    "\n",
    "plt.xlabel('Time in ASTR 119') #cool x label! :D\n",
    "plt.ylabel('Measures of Awesomeness') #cool y label! :D\n",
    "\n",
    "plt.ylim([-1, 10]) #setting y axis range :D\n",
    "plt.xlim([0, 2*np.pi]) #setting x axis range :D\n",
    "\n",
    "plt.show() #showing the beautiful graphs! :D"
   ]
  },
  {
   "cell_type": "code",
   "execution_count": null,
   "id": "bdc970e8",
   "metadata": {},
   "outputs": [],
   "source": []
  }
 ],
 "metadata": {
  "kernelspec": {
   "display_name": "Python 3 (ipykernel)",
   "language": "python",
   "name": "python3"
  },
  "language_info": {
   "codemirror_mode": {
    "name": "ipython",
    "version": 3
   },
   "file_extension": ".py",
   "mimetype": "text/x-python",
   "name": "python",
   "nbconvert_exporter": "python",
   "pygments_lexer": "ipython3",
   "version": "3.8.8"
  }
 },
 "nbformat": 4,
 "nbformat_minor": 5
}
