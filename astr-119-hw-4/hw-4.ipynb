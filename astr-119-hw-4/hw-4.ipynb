{
 "cells": [
  {
   "cell_type": "markdown",
   "id": "0705a5ff",
   "metadata": {},
   "source": [
    "# This is exciting! B-)\n"
   ]
  },
  {
   "cell_type": "markdown",
   "id": "3c7e5998",
   "metadata": {},
   "source": [
    "### First we import all the stuff we need!"
   ]
  },
  {
   "cell_type": "code",
   "execution_count": null,
   "id": "0550ecdc",
   "metadata": {},
   "outputs": [],
   "source": [
    "%matplotlib inline\n",
    "import numpy as np \n",
    "import matplotlib.pyplot as plt "
   ]
  },
  {
   "cell_type": "markdown",
   "id": "5172bd74",
   "metadata": {},
   "source": [
    "### Next we define the function of which we need to find the roots ! :-)"
   ]
  },
  {
   "cell_type": "code",
   "execution_count": null,
   "id": "51c79729",
   "metadata": {},
   "outputs": [],
   "source": [
    "def poly(x):\n",
    "    a = 1.01\n",
    "    b = -3.04\n",
    "    c = 2.07\n",
    "    return a*x**2 + b*x + c "
   ]
  },
  {
   "cell_type": "markdown",
   "id": "5b74df19",
   "metadata": {},
   "source": [
    "### To begin the process, we first define a func tp check whether our initial guess for the bracket has any roots "
   ]
  },
  {
   "cell_type": "code",
   "execution_count": null,
   "id": "e9c5b91d",
   "metadata": {},
   "outputs": [],
   "source": [
    "def check_initial_values(f, x_min, x_max, tol):\n",
    "    \n",
    "    #checking our initial guess ! :D\n",
    "    y_min = f(x_min)\n",
    "    y_max = f(x_max)\n",
    "    \n",
    "    #check if x_min and x_max cross 0 \n",
    "    if(y_min*y_max>=0.0):\n",
    "        print(\"No zero crossing found in the range =\", x_min, x_max)\n",
    "        s = \"f(%f) = %f, f(%f) = %f\" % (x_min, y_min, x_max, y_max)\n",
    "        print(s)\n",
    "        return 0 \n",
    "    \n",
    "    # is x_min a root??\n",
    "    if(np.fabs(y_min)<tol):\n",
    "        return 1\n",
    "        \n",
    "    #is x_max a root??\n",
    "    if(np.fabs(y_max)<tol):\n",
    "        return 2\n",
    "       \n",
    "    # is our original bracket valid ?? :D\n",
    "    return 3   \n",
    "    \n",
    "    "
   ]
  },
  {
   "cell_type": "markdown",
   "id": "3cc0801d",
   "metadata": {},
   "source": [
    "### now we define the function that performs the root finding! :D"
   ]
  },
  {
   "cell_type": "code",
   "execution_count": null,
   "id": "e53aa034",
   "metadata": {},
   "outputs": [],
   "source": [
    "def bisection_root_finder(f, x_min_start, x_max_start, tol):\n",
    "    \n",
    "    x_min = x_min_start\n",
    "    x_max = x_max_start\n",
    "    x_mid = 0.0\n",
    "    \n",
    "    y_min = f(x_min)\n",
    "    y_max = f(x_max)\n",
    "    y_mid = 0.0\n",
    "    \n",
    "    imax = 10000\n",
    "    i = 0\n",
    "    \n",
    "    #checking initial values ! :D\n",
    "    \n",
    "    flag = check_initial_values(f, x_min, x_max, tol)\n",
    "    if(flag==0):\n",
    "        print(\"Error in bisection_root_finder().\")\n",
    "        raise ValueError('Initial values invalid', x_min, x_max)\n",
    "    elif(flag==1):\n",
    "        #yay\n",
    "        return x_min\n",
    "    elif(flag==2):\n",
    "        return x_max\n",
    "    \n",
    "    #now we can start searching! :D\n",
    "    \n",
    "    #set a flag \n",
    "    flag = 1\n",
    "    \n",
    "    #while loop\n",
    "    \n",
    "    while(flag):\n",
    "        x_mid = 0.5*(x_min+x_max) #mid point\n",
    "        y_mid = f(x_mid) \n",
    "        \n",
    "        #check is x_mid is a root\n",
    "        if(np.fabs(y_mid)<tol):\n",
    "            flag = 0\n",
    "        else:\n",
    "            \n",
    "            #x_mid is not a root! :/\n",
    "            \n",
    "            #if the product of the function at the midpoint\n",
    "            #and at one of the end points is greater than\n",
    "            #zero, replace this end point\n",
    "            if(f(x_min)*f(x_mid)>0):\n",
    "                \n",
    "                x_min = x_mid\n",
    "                \n",
    "            else:\n",
    "                \n",
    "                x_max = x_mid\n",
    "        #print out the iteration        \n",
    "        print(x_min, f(x_min), x_max, f(x_max))\n",
    "        \n",
    "        #count the iteration\n",
    "        i += 1\n",
    "        \n",
    "        #exit if we exceeded max iterations :-/\n",
    "        \n",
    "        if(i>=imax):\n",
    "            print(\"Exceeded max number of iterations\", i)\n",
    "            s = \"Min bracket f(%f) = %f\" % (x_min, f(x_min))\n",
    "            print(s)\n",
    "            s = \"Max bracket f(%f) = %f\" % (x_max, f(x_max))\n",
    "            print(s)\n",
    "            s = \"Mid bracket f(%f) = %f\" % (x_mid, f(x_mid))\n",
    "            print(s)\n",
    "            raise StopIteration('Stopping iterations after', i)\n",
    "    \n",
    "    #we are done!! :D\n",
    "    return x_mid"
   ]
  },
  {
   "cell_type": "markdown",
   "id": "e451fd3a",
   "metadata": {},
   "source": [
    "## Let's find the roots! :-)"
   ]
  },
  {
   "cell_type": "code",
   "execution_count": null,
   "id": "3a387bc3",
   "metadata": {},
   "outputs": [],
   "source": [
    "x_min = 0.0\n",
    "x_max = 1.5\n",
    "tolerance = 1.0e-6\n",
    "\n",
    "#print the initial guess\n",
    "\n",
    "print(x_min, poly(x_min))\n",
    "print(x_max, poly(x_max))\n",
    "\n",
    "x_root = bisection_root_finder(poly, x_min, x_max, tolerance)\n",
    "y_root = poly(x_root)\n",
    "\n",
    "#storing roots in variable\n",
    "first_root = x_root\n",
    "\n",
    "s = \"Root found with y(%f) = %f\" % (x_root, y_root)\n",
    "print(s)\n"
   ]
  },
  {
   "cell_type": "markdown",
   "id": "0df8a742",
   "metadata": {},
   "source": [
    "## The above code takes 18 iterations to converge"
   ]
  },
  {
   "cell_type": "markdown",
   "id": "9e9e48a2",
   "metadata": {},
   "source": [
    "### Now we make a guess for the 2nd root!"
   ]
  },
  {
   "cell_type": "code",
   "execution_count": null,
   "id": "c7e9b81d",
   "metadata": {},
   "outputs": [],
   "source": [
    "x_min = 1.6\n",
    "x_max = 2\n",
    "tolerance = 1.0e-6\n",
    "\n",
    "#print the initial guess\n",
    "\n",
    "print(x_min, poly(x_min))\n",
    "print(x_max, poly(x_max))\n",
    "\n",
    "x_root = bisection_root_finder(poly, x_min, x_max, tolerance)\n",
    "y_root = poly(x_root)\n",
    "\n",
    "#storing the root in a variable\n",
    "second_root = x_root\n",
    "\n",
    "s = \"Root found with y(%f) = %f\" % (x_root, y_root)\n",
    "print(s)\n"
   ]
  },
  {
   "cell_type": "markdown",
   "id": "3f5e47ef",
   "metadata": {},
   "source": [
    "### executing the above took 15 iterations to converge"
   ]
  },
  {
   "cell_type": "markdown",
   "id": "33882a4c",
   "metadata": {},
   "source": [
    "## Plotting the function"
   ]
  },
  {
   "cell_type": "code",
   "execution_count": null,
   "id": "767d3555",
   "metadata": {},
   "outputs": [],
   "source": [
    "#defining the x \n",
    "\n",
    "x = np.linspace(0, 3, 1000)\n",
    "y = 1.01*x**2 -3.04*x +2.07\n",
    "plt.plot(x,y)\n",
    "\n",
    "#plotting the horizontal line at y=0\n",
    "y = 0*x\n",
    "plt.plot(x,y) \n",
    "\n",
    "plt.ylim([-0.5, 2.1]) #setting y axis range :D\n",
    "plt.xlim([0, 3]) #setting x axis range :D\n",
    "\n",
    "\n",
    "#plotting the roots! :D\n",
    "plt.plot(first_root, 0, 'ro')\n",
    "plt.plot(second_root, 0, 'ro')\n",
    "\n",
    "#plotting the initial bracketing values for first root! :D\n",
    "plt.plot(0.0, 0, 'go')\n",
    "plt.plot(1.5, 0, 'go')\n",
    "\n",
    "#plotting the initial bracketing values for first root! :D\n",
    "plt.plot(1.6, 0, 'bo')\n",
    "plt.plot(2, 0, 'bo')\n",
    "\n",
    "plt.xlabel('x') #cool x label! :D\n",
    "plt.ylabel('f(x)') #cool y label! :D\n"
   ]
  },
  {
   "cell_type": "code",
   "execution_count": null,
   "id": "1e252992",
   "metadata": {},
   "outputs": [],
   "source": []
  }
 ],
 "metadata": {
  "kernelspec": {
   "display_name": "Python 3 (ipykernel)",
   "language": "python",
   "name": "python3"
  },
  "language_info": {
   "codemirror_mode": {
    "name": "ipython",
    "version": 3
   },
   "file_extension": ".py",
   "mimetype": "text/x-python",
   "name": "python",
   "nbconvert_exporter": "python",
   "pygments_lexer": "ipython3",
   "version": "3.8.8"
  }
 },
 "nbformat": 4,
 "nbformat_minor": 5
}
