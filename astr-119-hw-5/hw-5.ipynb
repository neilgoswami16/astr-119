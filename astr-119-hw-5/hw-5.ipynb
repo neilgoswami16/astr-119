{
 "cells": [
  {
   "cell_type": "markdown",
   "id": "032c3d83",
   "metadata": {},
   "source": [
    "## This is gonna be fun!!! BD"
   ]
  },
  {
   "cell_type": "markdown",
   "id": "06acd84e",
   "metadata": {},
   "source": [
    "### first we import the stuff we need! "
   ]
  },
  {
   "cell_type": "code",
   "execution_count": null,
   "id": "9626dc91",
   "metadata": {},
   "outputs": [],
   "source": [
    "%matplotlib inline\n",
    "import numpy as np\n",
    "import matplotlib.pyplot as plt"
   ]
  },
  {
   "cell_type": "markdown",
   "id": "af15c3fe",
   "metadata": {},
   "source": [
    "### now we define the function we want to integrate!"
   ]
  },
  {
   "cell_type": "code",
   "execution_count": null,
   "id": "28df576f",
   "metadata": {},
   "outputs": [],
   "source": [
    "def fun(x):\n",
    "    return np.exp(-2*x)*np.cos(10*x)"
   ]
  },
  {
   "cell_type": "markdown",
   "id": "7ddb17aa",
   "metadata": {},
   "source": [
    "### now we define its integral so we know what the right answer is! XD"
   ]
  },
  {
   "cell_type": "code",
   "execution_count": null,
   "id": "7358abe3",
   "metadata": {},
   "outputs": [],
   "source": [
    "def fun_integral(x):\n",
    "    return (1/52.)*np.exp(-2*x)*(5*np.sin(10*x)- np.cos(10*x))"
   ]
  },
  {
   "cell_type": "markdown",
   "id": "e58e7cec",
   "metadata": {},
   "source": [
    "### defining the single interval value of the trapezoid method! :-)"
   ]
  },
  {
   "cell_type": "code",
   "execution_count": null,
   "id": "6371b9c0",
   "metadata": {},
   "outputs": [],
   "source": [
    "def trapezoid_interval(f, x, h):\n",
    "    return 0.5*h*(f(x+h)+ f(x))"
   ]
  },
  {
   "cell_type": "markdown",
   "id": "c0943967",
   "metadata": {},
   "source": [
    "### executing the trapezoid method: adding the single intervals values"
   ]
  },
  {
   "cell_type": "code",
   "execution_count": null,
   "id": "4bcdd483",
   "metadata": {},
   "outputs": [],
   "source": [
    "def trapezoid_method(f, a, b, N):\n",
    "    # f = function to integrate\n",
    "    # a = lower limit of integration\n",
    "    # b = uper limit of integration\n",
    "    # N = number of intervals to use\n",
    "    \n",
    "    #defining the number line interval to integrate over! :D\n",
    "    x = np.linspace(a, b, N)\n",
    "    h = x[1] - x[0]\n",
    "    \n",
    "    #defining which will hold the integral value as we sum\n",
    "    Fint = 0.0\n",
    "    \n",
    "    #performing the intergal !!! :D\n",
    "    for i in range(0, len(x)-1, 1):\n",
    "        Fint += trapezoid_interval(f, x[i], h)\n",
    "    \n",
    "    #return the answer! :D\n",
    "    return Fint\n",
    "    "
   ]
  },
  {
   "cell_type": "markdown",
   "id": "e66abf2e",
   "metadata": {},
   "source": [
    "## Lets do the integral and compare it to the correct answer! :D"
   ]
  },
  {
   "cell_type": "code",
   "execution_count": null,
   "id": "d49cbca5",
   "metadata": {
    "scrolled": true
   },
   "outputs": [],
   "source": [
    "print(\"Trapezoid method result\")\n",
    "print(trapezoid_method(fun, 0, np.pi, 3500))\n",
    "print(\"Analytical solution\")\n",
    "Answer = fun_integral(np.pi)- fun_integral(0)\n",
    "print(Answer)"
   ]
  },
  {
   "cell_type": "markdown",
   "id": "dd780614",
   "metadata": {},
   "source": [
    "### as we can see, about 3500 intervals is enough to reach the tolerance of 10^-6"
   ]
  },
  {
   "cell_type": "markdown",
   "id": "2b558fba",
   "metadata": {},
   "source": [
    "### Defining the single interval element of simpson's method! :-)"
   ]
  },
  {
   "cell_type": "code",
   "execution_count": null,
   "id": "d693769c",
   "metadata": {},
   "outputs": [],
   "source": [
    "def simpsons_interval(f, x, h):\n",
    "    return h*( f(x) + 4*f(x+h) + f(x+2*h))/3."
   ]
  },
  {
   "cell_type": "markdown",
   "id": "db213d7c",
   "metadata": {},
   "source": [
    "### Executing simpsons method by summing the elements ! :D"
   ]
  },
  {
   "cell_type": "code",
   "execution_count": null,
   "id": "6d1b27bf",
   "metadata": {},
   "outputs": [],
   "source": [
    "def simpsons_method(f, a, b, N):\n",
    "    #f = func to integrate \n",
    "    #a = lower limit of integration \n",
    "    #b = upper limit of integration\n",
    "    #N = number of intervals to use\n",
    "    \n",
    "    #the number of elements will be N -1 \n",
    "    # so if N is odd we dont need to adjust anything\n",
    "    \n",
    "    #define the number line interval to integrat over\n",
    "    x = np.linspace(a, b, N)\n",
    "    h = x[1] - x[0]\n",
    "    \n",
    "    #define the variable to hold the integral value as we sum intervals! :D\n",
    "    \n",
    "    Fint = 0.0\n",
    "    \n",
    "    #executing simpsons method\n",
    "    for i in range(0, len(x)-2, 2):\n",
    "        Fint += simpsons_interval(f, x[i], h)\n",
    "        \n",
    "    #applying simpsons method to the last element sepratelt in case the\n",
    "    #total number of intervals is even\n",
    "    \n",
    "    if((N%2)==0):\n",
    "        Fint += simpsons_interval(f, x[-2], 0.5*h)\n",
    "        \n",
    "    return Fint\n",
    "    "
   ]
  },
  {
   "cell_type": "markdown",
   "id": "66dc4654",
   "metadata": {},
   "source": [
    "### Lets print our answer from simpsons method and compare it to the analytical solution! :-)"
   ]
  },
  {
   "cell_type": "code",
   "execution_count": null,
   "id": "62125b05",
   "metadata": {
    "scrolled": true
   },
   "outputs": [],
   "source": [
    "print(\"Simpson's method result\")\n",
    "print(simpsons_method(fun, 0, np.pi, 150))\n",
    "print(\"Analytical solution\")\n",
    "Answer = fun_integral(np.pi)- fun_integral(0)\n",
    "print(Answer)"
   ]
  },
  {
   "cell_type": "markdown",
   "id": "8924e864",
   "metadata": {},
   "source": [
    "### as we can see within 150 intervals we got a result within the tolerance !"
   ]
  },
  {
   "cell_type": "markdown",
   "id": "1b915752",
   "metadata": {},
   "source": [
    "### Defining the romberg integration interval value! :D"
   ]
  },
  {
   "cell_type": "code",
   "execution_count": null,
   "id": "a4b6f5e7",
   "metadata": {},
   "outputs": [],
   "source": [
    "def romberg_interval(f, a, b, i):\n",
    "    \n",
    "    #we need the diff b-a\n",
    "    \n",
    "    h = b-a\n",
    "    \n",
    "    #increment between new function evaluations!\n",
    "    dh = h/2.**(i)\n",
    "    \n",
    "    # cofactor\n",
    "    K = h/2.**(i+1)\n",
    "    \n",
    "    #function evaluations!\n",
    "    M = 0.0\n",
    "    for j in range(2**i):\n",
    "        M += f(a + 0.5*dh + j*dh)\n",
    "        \n",
    "    return K*M\n",
    "    \n",
    "    "
   ]
  },
  {
   "cell_type": "markdown",
   "id": "41f0ae17",
   "metadata": {},
   "source": [
    "### executing the romberg method ! :)"
   ]
  },
  {
   "cell_type": "code",
   "execution_count": null,
   "id": "2f8b2e25",
   "metadata": {},
   "outputs": [],
   "source": [
    "def romberg_integration(f, a, b, tol):\n",
    "    \n",
    "    #iteraton variable! :D\n",
    "    i = 0\n",
    "    \n",
    "    #max number of iterations! \n",
    "    \n",
    "    imax = 1000\n",
    "    \n",
    "    #defining an error estimate - set to a large value\n",
    "    \n",
    "    delta = 100.0*np.fabs(tol)\n",
    "    \n",
    "    #setting an array of integral answers\n",
    "    I = np.zeros(imax, dtype = float)\n",
    "    \n",
    "    #0th romberg integration\n",
    "    \n",
    "    I[0] = 0.5*(b-a)**(f(a) + f(b))\n",
    "    \n",
    "    #iterate by 1\n",
    "    \n",
    "    i += 1\n",
    "    \n",
    "    while(delta>tol):\n",
    "        \n",
    "        I[i] = 0.5*I[i-1] + romberg_interval(f, a, b, i)\n",
    "        \n",
    "        #compute the new fractional error estimate\n",
    "        \n",
    "        delta = np.fabs((I[i]-I[i-1])/I[i])\n",
    "        \n",
    "        print(i, I[i], I[i-1], delta)\n",
    "        \n",
    "        if(delta>tol):\n",
    "            \n",
    "            i+=1\n",
    "            \n",
    "            #if we wave reached the ma xnumber of iterations\n",
    "            \n",
    "            if(i>imax):\n",
    "                print(\"Max iterations reached. :(\")\n",
    "                raise StopIteration('Stopping iterations after', i)\n",
    "                \n",
    "    return I[i]\n",
    "    \n",
    "            "
   ]
  },
  {
   "cell_type": "markdown",
   "id": "27a3411c",
   "metadata": {},
   "source": [
    "### Lets compute the romberg integral and compare it to the analytical solution! "
   ]
  },
  {
   "cell_type": "code",
   "execution_count": null,
   "id": "683afe99",
   "metadata": {},
   "outputs": [],
   "source": [
    "\n",
    "print(\"Romberg method result\")\n",
    "tolerance = 1.0e-6\n",
    "RI = romberg_integration(fun, 0, np.pi, tolerance)\n",
    "print(RI)\n",
    "print(\"Analytical solution\")\n",
    "Answer = fun_integral(np.pi)- fun_integral(0)\n",
    "print(Answer)"
   ]
  },
  {
   "cell_type": "markdown",
   "id": "1f8b6ae3",
   "metadata": {},
   "source": [
    "### so as we see above it takes this method only 26 iterations to reach the required tolerance! BD"
   ]
  },
  {
   "cell_type": "code",
   "execution_count": null,
   "id": "fab8ad9a",
   "metadata": {},
   "outputs": [],
   "source": []
  }
 ],
 "metadata": {
  "kernelspec": {
   "display_name": "Python 3 (ipykernel)",
   "language": "python",
   "name": "python3"
  },
  "language_info": {
   "codemirror_mode": {
    "name": "ipython",
    "version": 3
   },
   "file_extension": ".py",
   "mimetype": "text/x-python",
   "name": "python",
   "nbconvert_exporter": "python",
   "pygments_lexer": "ipython3",
   "version": "3.8.8"
  }
 },
 "nbformat": 4,
 "nbformat_minor": 5
}
